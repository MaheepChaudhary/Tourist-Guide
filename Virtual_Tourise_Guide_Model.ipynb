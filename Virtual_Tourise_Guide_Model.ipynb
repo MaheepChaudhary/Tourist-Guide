{
  "nbformat": 4,
  "nbformat_minor": 0,
  "metadata": {
    "colab": {
      "name": "Virtual Tourise Guide Model.ipynb",
      "provenance": [],
      "collapsed_sections": [],
      "authorship_tag": "ABX9TyMh95vCaKQPbi+FP6ALoPgY",
      "include_colab_link": true
    },
    "kernelspec": {
      "name": "python3",
      "display_name": "Python 3"
    }
  },
  "cells": [
    {
      "cell_type": "markdown",
      "metadata": {
        "id": "view-in-github",
        "colab_type": "text"
      },
      "source": [
        "<a href=\"https://colab.research.google.com/github/MaheepChaudhary/Tourist-Guide/blob/master/Virtual_Tourise_Guide_Model.ipynb\" target=\"_parent\"><img src=\"https://colab.research.google.com/assets/colab-badge.svg\" alt=\"Open In Colab\"/></a>"
      ]
    },
    {
      "cell_type": "code",
      "metadata": {
        "id": "DJUwteqpSP7I",
        "colab_type": "code",
        "outputId": "bb950074-a6e3-43e8-d40d-4f569894932a",
        "colab": {
          "base_uri": "https://localhost:8080/",
          "height": 188
        }
      },
      "source": [
        "# Installing patool to extract compressed files\n",
        "!pip install patool\n",
        "import os\n",
        "import patoolib\n",
        "patoolib.extract_archive(\"all_data_test.rar\")\n",
        "patoolib.extract_archive(\"all_data_train.rar\")"
      ],
      "execution_count": 0,
      "outputs": [
        {
          "output_type": "stream",
          "text": [
            "Requirement already satisfied: patool in /usr/local/lib/python3.6/dist-packages (1.12)\n",
            "patool: Extracting all_data_test.rar ...\n",
            "patool: running /usr/bin/unrar x -- /content/all_data_test.rar\n",
            "patool:     with cwd='./Unpack_gynmcdds'\n",
            "patool: ... all_data_test.rar extracted to `all_data_test1' (local file exists).\n",
            "patool: Extracting all_data_train.rar ...\n",
            "patool: running /usr/bin/unrar x -- /content/all_data_train.rar\n",
            "patool:     with cwd='./Unpack__irz548l'\n",
            "patool: ... all_data_train.rar extracted to `all_data_train1' (local file exists).\n"
          ],
          "name": "stdout"
        },
        {
          "output_type": "execute_result",
          "data": {
            "text/plain": [
              "'all_data_train1'"
            ]
          },
          "metadata": {
            "tags": []
          },
          "execution_count": 54
        }
      ]
    },
    {
      "cell_type": "code",
      "metadata": {
        "id": "IaiPAIFjf_Bb",
        "colab_type": "code",
        "colab": {}
      },
      "source": [
        "# Importing the necessary packages\n",
        "import numpy as np\n",
        "import tensorflow as tf\n",
        "import os\n",
        "import cv2\n",
        "from matplotlib import pyplot as plt"
      ],
      "execution_count": 0,
      "outputs": []
    },
    {
      "cell_type": "code",
      "metadata": {
        "id": "1lr6GlcPgPlS",
        "colab_type": "code",
        "colab": {}
      },
      "source": [
        "# Making the training data \n",
        "training_data = []\n",
        "X_train = []\n",
        "y_train = []\n",
        "\n",
        "labels = ['taj mahal', 'statue of liberty', 'Eiffel Tower']\n",
        "\n",
        "\n",
        "for i in os.listdir('/content/all_data_train'):\n",
        "  img = cv2.imread(\"/content/all_data_train/\"+str(i), cv2.IMREAD_GRAYSCALE)\n",
        "  # Choosing the label by checking the name of the image\n",
        "  if i[:9] == 'taj mahal':\n",
        "    lable = 0\n",
        "  elif i[:17] == 'statue of liberty': \n",
        "    lable = 1\n",
        "  elif i[:12] == 'Eiffel_Tower':\n",
        "    lable = 2\n",
        "  # Training data has X_train and y_train both as img and label\n",
        "  training_data.append([img, lable])\n",
        "\n",
        "# Shuffling the data for more accurate training  \n",
        "np.random.shuffle(training_data)\n",
        "\n",
        "# Normalizing and adding the image to X_train and y_train\n",
        "for image, lable in training_data:\n",
        "  image = tf.keras.utils.normalize(image)\n",
        "  X_train.append(image)\n",
        "  y_train.append(lable)\n",
        "\n",
        "# Arranging the image data in a proper format \n",
        "X_train = np.array(X_train).reshape(-1, 96, 96, 1)"
      ],
      "execution_count": 0,
      "outputs": []
    },
    {
      "cell_type": "code",
      "metadata": {
        "colab_type": "code",
        "id": "gBp8YW1hAg2B",
        "colab": {}
      },
      "source": [
        "# Preparing test data as training data is prepared above\n",
        "testing_data = []\n",
        "X_test = []\n",
        "y_test = []\n",
        "\n",
        "labels = ['taj mahal', 'statue of liberty', 'Eiffel Tower']\n",
        "\n",
        "for i in os.listdir(\"/content/all_data_test\"):\n",
        "  img = cv2.imread(\"/content/all_data_test/\"+str(i), cv2.IMREAD_GRAYSCALE)\n",
        "\n",
        "  if i[:9] == 'taj mahal':\n",
        "    lable = 0\n",
        "  elif i[:17] == 'statue of liberty':\n",
        "    lable = 1\n",
        "  elif i[:12] == 'Eiffel_Tower':\n",
        "    lable = 2\n",
        "  testing_data.append([img, lable])\n",
        "\n",
        "np.random.shuffle(testing_data)\n",
        "for image, lable in testing_data:\n",
        "  image = tf.keras.utils.normalize(image)\n",
        "  X_test.append(image)\n",
        "  y_test.append(lable)\n",
        "\n",
        "X_test = np.array(X_test).reshape(-1, 96, 96, 1)\n"
      ],
      "execution_count": 0,
      "outputs": []
    },
    {
      "cell_type": "code",
      "metadata": {
        "id": "36buH0WKidce",
        "colab_type": "code",
        "colab": {}
      },
      "source": [
        "# Making the model using Convolutional Neural Network and Maxpooling\n",
        "model = tf.keras.models.Sequential()\n",
        "model.add(tf.keras.layers.Conv2D(32, (3,3), activation = 'relu', input_shape = X_train.shape[1:]))\n",
        "model.add(tf.keras.layers.MaxPooling2D(pool_size=(2,2)))\n",
        "model.add(tf.keras.layers.Conv2D(64, (3,3), activation = 'relu'))\n",
        "model.add(tf.keras.layers.MaxPooling2D(pool_size=(2,2)))\n",
        "model.add(tf.keras.layers.Conv2D(128, (3,3), activation = 'relu'))\n",
        "model.add(tf.keras.layers.MaxPooling2D(pool_size=(2,2)))\n",
        "model.add(tf.keras.layers.Flatten())\n",
        "model.add(tf.keras.layers.Dense(64, activation = 'relu'))\n",
        "model.add(tf.keras.layers.Dense(64, activation = 'relu'))\n",
        "model.add(tf.keras.layers.Dense(3, activation = 'softmax'))\n"
      ],
      "execution_count": 0,
      "outputs": []
    },
    {
      "cell_type": "code",
      "metadata": {
        "id": "XQBuSyGL2T0J",
        "colab_type": "code",
        "colab": {}
      },
      "source": [
        "# Compiling the model\n",
        "model.compile( optimizer = \"adam\", loss = \"sparse_categorical_crossentropy\",  metrics = [\"accuracy\"])"
      ],
      "execution_count": 0,
      "outputs": []
    },
    {
      "cell_type": "code",
      "metadata": {
        "id": "coX9TTkk4ONh",
        "colab_type": "code",
        "outputId": "6ffb304f-32f9-4ccf-fd19-b1d0d5eaf36d",
        "colab": {
          "base_uri": "https://localhost:8080/",
          "height": 394
        }
      },
      "source": [
        "# training the model and also evaluating the model on test data\n",
        "mymod = model.fit(X_train, y_train, epochs=10, validation_split = 0.2)\n",
        "_,accuracy = model.evaluate(X_test,y_test)\n",
        "  \n"
      ],
      "execution_count": 0,
      "outputs": [
        {
          "output_type": "stream",
          "text": [
            "Train on 2197 samples, validate on 550 samples\n",
            "Epoch 1/10\n",
            "2197/2197 [==============================] - 32s 15ms/sample - loss: 0.0888 - acc: 0.9786 - val_loss: 0.2510 - val_acc: 0.9418\n",
            "Epoch 2/10\n",
            "2197/2197 [==============================] - 32s 15ms/sample - loss: 0.0184 - acc: 0.9959 - val_loss: 0.2268 - val_acc: 0.9473\n",
            "Epoch 3/10\n",
            "2197/2197 [==============================] - 32s 15ms/sample - loss: 0.0078 - acc: 0.9977 - val_loss: 0.2396 - val_acc: 0.9473\n",
            "Epoch 4/10\n",
            "2197/2197 [==============================] - 32s 15ms/sample - loss: 0.0057 - acc: 0.9982 - val_loss: 0.2565 - val_acc: 0.9509\n",
            "Epoch 5/10\n",
            "2197/2197 [==============================] - 32s 15ms/sample - loss: 0.0052 - acc: 0.9977 - val_loss: 0.2438 - val_acc: 0.9527\n",
            "Epoch 6/10\n",
            "2197/2197 [==============================] - 32s 15ms/sample - loss: 0.0037 - acc: 0.9977 - val_loss: 0.2627 - val_acc: 0.9509\n",
            "Epoch 7/10\n",
            "2197/2197 [==============================] - 32s 15ms/sample - loss: 0.0053 - acc: 0.9986 - val_loss: 0.2519 - val_acc: 0.9564\n",
            "Epoch 8/10\n",
            "2197/2197 [==============================] - 32s 15ms/sample - loss: 0.0059 - acc: 0.9973 - val_loss: 0.2802 - val_acc: 0.9509\n",
            "Epoch 9/10\n",
            "2197/2197 [==============================] - 32s 15ms/sample - loss: 0.0042 - acc: 0.9982 - val_loss: 0.2674 - val_acc: 0.9527\n",
            "Epoch 10/10\n",
            "2197/2197 [==============================] - 32s 15ms/sample - loss: 0.0052 - acc: 0.9982 - val_loss: 0.2642 - val_acc: 0.9564\n",
            "544/544 [==============================] - 2s 4ms/sample - loss: 0.1089 - acc: 0.9853\n"
          ],
          "name": "stdout"
        }
      ]
    },
    {
      "cell_type": "code",
      "metadata": {
        "id": "ee57NzGc-lW4",
        "colab_type": "code",
        "outputId": "5cd77a92-d7fb-4e72-b6f1-39ff81af96bb",
        "colab": {
          "base_uri": "https://localhost:8080/",
          "height": 312
        }
      },
      "source": [
        "# Printing the accuracy on the training data\n",
        "print(\"The accuracy on the test set is:-\",accuracy)\n",
        "# Plotting the graph of training accuracy VS epochs\n",
        "plt.plot(mymod.history[\"acc\"])\n",
        "plt.ylabel(\"accuracy\")\n",
        "plt.xlabel(\"epochs\")\n",
        "plt.title(\"Accuracy VS Epochs\")\n",
        "plt.show()"
      ],
      "execution_count": 0,
      "outputs": [
        {
          "output_type": "stream",
          "text": [
            "The accuracy on the test set is:- 0.9852941\n"
          ],
          "name": "stdout"
        },
        {
          "output_type": "display_data",
          "data": {
            "image/png": "[encoded data removed]",
            "text/plain": [
              "<Figure size 432x288 with 1 Axes>"
            ]
          },
          "metadata": {
            "tags": []
          }
        }
      ]
    }
  ]
}